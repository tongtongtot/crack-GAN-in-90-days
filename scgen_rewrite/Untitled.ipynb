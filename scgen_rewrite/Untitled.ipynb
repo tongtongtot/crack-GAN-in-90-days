{
 "cells": [
  {
   "cell_type": "code",
   "execution_count": 28,
   "id": "390b869b",
   "metadata": {},
   "outputs": [],
   "source": [
    "import os \n",
    "import numpy as np\n",
    "import pandas as pd\n",
    "import anndata\n",
    "import scanpy as sc\n",
    "import matplotlib.pyplot as plt\n",
    "import seaborn as sns\n",
    "from scipy import stats\n",
    "import matplotlib\n",
    "from scgen_model import SCGEN\n",
    "# import scgen\n",
    "matplotlib.rc('ytick', labelsize=18)\n",
    "matplotlib.rc('xtick', labelsize=18)\n",
    "sc.set_figure_params(dpi_save=300)"
   ]
  },
  {
   "cell_type": "code",
   "execution_count": 17,
   "id": "8f267075",
   "metadata": {},
   "outputs": [],
   "source": [
    "path_to_save = \"../results/Figures/Supplemental Figure 2/\"\n",
    "os.makedirs(path_to_save, exist_ok=True)\n",
    "sc.settings.figdir = path_to_save"
   ]
  },
  {
   "cell_type": "code",
   "execution_count": 24,
   "id": "4671e0d7",
   "metadata": {},
   "outputs": [
    {
     "data": {
      "text/plain": [
       "AnnData object with n_obs × n_vars = 16893 × 6998\n",
       "    obs: 'condition', 'n_counts', 'n_genes', 'mt_frac', 'cell_type'\n",
       "    var: 'gene_symbol', 'n_cells'\n",
       "    uns: 'cell_type_colors', 'condition_colors', 'neighbors'\n",
       "    obsm: 'X_pca', 'X_tsne', 'X_umap'\n",
       "    obsp: 'distances', 'connectivities'"
      ]
     },
     "execution_count": 24,
     "metadata": {},
     "output_type": "execute_result"
    }
   ],
   "source": [
    "pbmc = sc.read(\"tests/data/train_kang.h5ad\")\n",
    "pbmc"
   ]
  },
  {
   "cell_type": "code",
   "execution_count": 45,
   "id": "7d89a5af",
   "metadata": {},
   "outputs": [
    {
     "data": {
      "text/plain": [
       "['NK', 'Dendritic', 'CD4T', 'B', 'FCGR3A+Mono', 'CD14+Mono', 'CD8T']"
      ]
     },
     "execution_count": 45,
     "metadata": {},
     "output_type": "execute_result"
    }
   ],
   "source": [
    "pbmc.obs['cell_type'].unique().tolist()"
   ]
  },
  {
   "cell_type": "code",
   "execution_count": 40,
   "id": "5f18c3d2",
   "metadata": {},
   "outputs": [
    {
     "data": {
      "text/plain": [
       "6998"
      ]
     },
     "execution_count": 40,
     "metadata": {},
     "output_type": "execute_result"
    }
   ],
   "source": [
    "pbmc.X.shape[1]"
   ]
  },
  {
   "cell_type": "code",
   "execution_count": 46,
   "id": "efbc30a5",
   "metadata": {},
   "outputs": [
    {
     "data": {
      "text/plain": [
       "cell_type    condition \n",
       "CD4T         control       2437\n",
       "             stimulated    3127\n",
       "CD14+Mono    control       1946\n",
       "             stimulated     615\n",
       "B            control        818\n",
       "             stimulated     993\n",
       "CD8T         control        574\n",
       "             stimulated     541\n",
       "NK           control        517\n",
       "             stimulated     646\n",
       "FCGR3A+Mono  control       1100\n",
       "             stimulated    2501\n",
       "Dendritic    control        615\n",
       "             stimulated     463\n",
       "dtype: int64"
      ]
     },
     "execution_count": 46,
     "metadata": {},
     "output_type": "execute_result"
    }
   ],
   "source": [
    "pbmc.obs.groupby(['cell_type', 'condition']).size()"
   ]
  },
  {
   "cell_type": "code",
   "execution_count": 50,
   "id": "1bdc0b45",
   "metadata": {},
   "outputs": [
    {
     "data": {
      "text/plain": [
       "AnnData object with n_obs × n_vars = 16893 × 6998\n",
       "    obs: 'condition', 'n_counts', 'n_genes', 'mt_frac', 'cell_type'\n",
       "    var: 'gene_symbol', 'n_cells'\n",
       "    uns: 'cell_type_colors', 'condition_colors', 'neighbors'\n",
       "    obsm: 'X_pca', 'X_tsne', 'X_umap'\n",
       "    obsp: 'distances', 'connectivities'"
      ]
     },
     "execution_count": 50,
     "metadata": {},
     "output_type": "execute_result"
    }
   ],
   "source": [
    "pbmc"
   ]
  },
  {
   "cell_type": "code",
   "execution_count": 47,
   "id": "bf9ef24b",
   "metadata": {},
   "outputs": [
    {
     "data": {
      "text/plain": [
       "View of AnnData object with n_obs × n_vars = 1163 × 6998\n",
       "    obs: 'condition', 'n_counts', 'n_genes', 'mt_frac', 'cell_type'\n",
       "    var: 'gene_symbol', 'n_cells'\n",
       "    uns: 'cell_type_colors', 'condition_colors', 'neighbors'\n",
       "    obsm: 'X_pca', 'X_tsne', 'X_umap'\n",
       "    obsp: 'distances', 'connectivities'"
      ]
     },
     "execution_count": 47,
     "metadata": {},
     "output_type": "execute_result"
    }
   ],
   "source": [
    "pbmc[pbmc.obs['cell_type'] == 'NK']"
   ]
  },
  {
   "cell_type": "code",
   "execution_count": 48,
   "id": "7229550a",
   "metadata": {},
   "outputs": [
    {
     "data": {
      "text/plain": [
       "View of AnnData object with n_obs × n_vars = 517 × 6998\n",
       "    obs: 'condition', 'n_counts', 'n_genes', 'mt_frac', 'cell_type'\n",
       "    var: 'gene_symbol', 'n_cells'\n",
       "    uns: 'cell_type_colors', 'condition_colors', 'neighbors'\n",
       "    obsm: 'X_pca', 'X_tsne', 'X_umap'\n",
       "    obsp: 'distances', 'connectivities'"
      ]
     },
     "execution_count": 48,
     "metadata": {},
     "output_type": "execute_result"
    }
   ],
   "source": [
    "pbmc[((pbmc.obs['cell_type'] == 'NK') & (pbmc.obs['condition'] == 'control'))]"
   ]
  },
  {
   "cell_type": "code",
   "execution_count": 49,
   "id": "42b9f9c6",
   "metadata": {},
   "outputs": [
    {
     "data": {
      "text/plain": [
       "View of AnnData object with n_obs × n_vars = 16376 × 6998\n",
       "    obs: 'condition', 'n_counts', 'n_genes', 'mt_frac', 'cell_type'\n",
       "    var: 'gene_symbol', 'n_cells'\n",
       "    uns: 'cell_type_colors', 'condition_colors', 'neighbors'\n",
       "    obsm: 'X_pca', 'X_tsne', 'X_umap'\n",
       "    obsp: 'distances', 'connectivities'"
      ]
     },
     "execution_count": 49,
     "metadata": {},
     "output_type": "execute_result"
    }
   ],
   "source": [
    "pbmc[~((pbmc.obs['cell_type'] =='NK') & (pbmc.obs['condition'] == 'control'))]"
   ]
  },
  {
   "cell_type": "code",
   "execution_count": 22,
   "id": "e7258777",
   "metadata": {},
   "outputs": [
    {
     "data": {
      "text/plain": [
       "View of AnnData object with n_obs × n_vars = 0 × 6998\n",
       "    obs: 'condition', 'n_counts', 'n_genes', 'mt_frac', 'cell_type'\n",
       "    var: 'gene_symbol', 'n_cells'\n",
       "    uns: 'cell_type_colors', 'condition_colors', 'neighbors'\n",
       "    obsm: 'X_pca', 'X_tsne', 'X_umap'\n",
       "    obsp: 'distances', 'connectivities'"
      ]
     },
     "execution_count": 22,
     "metadata": {},
     "output_type": "execute_result"
    }
   ],
   "source": [
    "scgen_recon = sc.read(\"valid_pbmc.h5ad\")\n",
    "ctrl = scgen_recon[scgen_recon.obs[\"condition\"] == \"CD4T_ctrl\"]\n",
    "real_stim = scgen_recon[scgen_recon.obs[\"condition\"] == \"CD4T_real_stim\"]\n",
    "scgen_recon = scgen_recon[scgen_recon.obs[\"condition\"].isin([\"CD4T_real_stim\", \"CD4T_pred_stim\", \"CD4T_ctrl\"])]\n",
    "scgen_recon"
   ]
  },
  {
   "cell_type": "code",
   "execution_count": 56,
   "id": "91945d02",
   "metadata": {},
   "outputs": [
    {
     "data": {
      "text/plain": [
       "<16893x6998 sparse matrix of type '<class 'numpy.float32'>'\n",
       "\twith 5533579 stored elements in Compressed Sparse Row format>"
      ]
     },
     "execution_count": 56,
     "metadata": {},
     "output_type": "execute_result"
    }
   ],
   "source": [
    "pbmc.X"
   ]
  },
  {
   "cell_type": "code",
   "execution_count": 55,
   "id": "8ac98d99",
   "metadata": {},
   "outputs": [
    {
     "data": {
      "text/plain": [
       "array([[0., 0., 0., ..., 0., 0., 0.],\n",
       "       [0., 0., 0., ..., 0., 0., 0.],\n",
       "       [0., 0., 0., ..., 0., 0., 0.],\n",
       "       ...,\n",
       "       [0., 0., 0., ..., 0., 0., 0.],\n",
       "       [0., 0., 0., ..., 0., 0., 0.],\n",
       "       [0., 0., 0., ..., 0., 0., 0.]], dtype=float32)"
      ]
     },
     "execution_count": 55,
     "metadata": {},
     "output_type": "execute_result"
    }
   ],
   "source": [
    "pbmc.X.A"
   ]
  },
  {
   "cell_type": "code",
   "execution_count": 33,
   "id": "a33ccbe1",
   "metadata": {},
   "outputs": [
    {
     "name": "stderr",
     "output_type": "stream",
     "text": [
      "/opt/conda/lib/python3.7/site-packages/anndata/compat/_overloaded_dict.py:106: ImplicitModificationWarning: Trying to modify attribute `._uns` of view, initializing view as actual.\n",
      "  self.data[key] = value\n"
     ]
    }
   ],
   "source": [
    "cd4t = pbmc[pbmc.obs[\"cell_type\"] == \"CD4T\"]\n",
    "sc.tl.rank_genes_groups(cd4t, groupby=\"condition\", n_genes=100, method=\"wilcoxon\")\n",
    "diff_genes = cd4t.uns[\"rank_genes_groups\"][\"names\"][\"stimulated\"]"
   ]
  },
  {
   "cell_type": "code",
   "execution_count": 39,
   "id": "1f4a59cc",
   "metadata": {},
   "outputs": [],
   "source": [
    "def make_plots(adata, conditions, model_name, figure, x_coeff=0.3, y_coeff=0.1):\n",
    "    print(adata)\n",
    "    if model_name == \"RealCD4T\":\n",
    "        mean_labels = {\"x\": \"ctrl mean\", \"y\": \"stim mean\"}\n",
    "        var_labels = {\"x\": \"ctrl var\", \"y\": \"stim var\"}\n",
    "    else:\n",
    "        mean_labels = {\"x\": \"pred mean\", \"y\": \"stim mean\"}\n",
    "        var_labels = {\"x\": \"pred var\", \"y\": \"stim var\"}\n",
    "    print(adata.obs.groupby(['condition']).size())\n",
    "    SCGEN.reg_mean_plot(adata,\n",
    "                                 condition_key=\"condition\",\n",
    "                                 axis_keys={\"x\": conditions[\"pred_stim\"], \"y\": conditions[\"real_stim\"]},\n",
    "                                 gene_list=diff_genes[:5],\n",
    "                                 top_100_genes=diff_genes,\n",
    "                                 path_to_save=os.path.join(path_to_save, f\"SupplFig2{figure}_{model_name}_reg_mean.pdf\"),\n",
    "                                 legend=False,\n",
    "                                 title=\"\",\n",
    "                                 labels=mean_labels,\n",
    "                                 fontsize=26,\n",
    "                                 textsize=18,\n",
    "                                 x_coeff=x_coeff,\n",
    "                                 y_coeff=y_coeff,\n",
    "                                 show=True,\n",
    "                                 range=[0, 5, 1])\n",
    "    \n",
    "    SCGEN.reg_var_plot(adata, \n",
    "                                condition_key=\"condition\",\n",
    "                                axis_keys={\"x\": conditions[\"pred_stim\"], \"y\": conditions[\"real_stim\"]},\n",
    "                                gene_list=diff_genes[:5],\n",
    "                                top_100_genes=diff_genes,\n",
    "                                path_to_save=os.path.join(path_to_save, f\"SupplFig2{figure}_{model_name}_reg_var.pdf\"),\n",
    "                                legend=False,\n",
    "                                labels=var_labels,\n",
    "                                title=\"\",\n",
    "                                fontsize=26,\n",
    "                                textsize=18,\n",
    "                                x_coeff=x_coeff,\n",
    "                                y_coeff=y_coeff,\n",
    "                                show=True)\n",
    "    if model_name == \"scGen\":\n",
    "        adata = adata[adata.obs[\"condition\"].isin([\"CD4T_ctrl\", \"CD4T_pred_stim\", \"CD4T_real_stim\"])]\n",
    "        adata.obs[\"condition\"].replace(\"CD4T_ctrl\", \"ctrl\", inplace=True)\n",
    "        adata.obs[\"condition\"].replace(\"CD4T_real_stim\", \"real_stim\", inplace=True)\n",
    "        adata.obs[\"condition\"].replace(\"CD4T_pred_stim\", \"pred_stim\", inplace=True)\n",
    "    sc.pp.neighbors(adata, n_neighbors=20)\n",
    "    sc.tl.umap(adata, min_dist=1.1)\n",
    "    import matplotlib.style\n",
    "    plt.style.use('default')\n",
    "    if model_name == \"scGen\":\n",
    "        sc.pl.umap(adata, color=[\"condition\"],\n",
    "                   legend_loc=False,\n",
    "                   frameon=False,\n",
    "                   title=\"\",\n",
    "                   palette=matplotlib.rcParams[\"axes.prop_cycle\"],\n",
    "                   save=f\"_latent_conditions.png\",\n",
    "                   show=True)\n",
    "    else:\n",
    "        if model_name == \"RealCD4T\":\n",
    "            sc.pl.umap(adata, color=[\"condition\"],\n",
    "                   legend_loc=False,\n",
    "                   frameon=False,\n",
    "                   title=\"\",\n",
    "                   palette=['#1f77b4', '#2ca02c'],\n",
    "                   save=f\"_latent_conditions.png\",\n",
    "                   show=True)\n",
    "        else:\n",
    "            \n",
    "            sc.pl.umap(adata, color=[\"condition\"],\n",
    "                       legend_loc=False,\n",
    "                       frameon=False,\n",
    "                       title=\"\",\n",
    "                       palette=matplotlib.rcParams[\"axes.prop_cycle\"],\n",
    "                       save=f\"_latent_conditions.png\",\n",
    "                       show=True)\n",
    "    \n",
    "    os.rename(src=os.path.join(path_to_save, \"umap_latent_conditions.png\"), \n",
    "              dst=os.path.join(path_to_save, f\"SupplFig2{figure}_{model_name}_umap.png\"))"
   ]
  },
  {
   "cell_type": "code",
   "execution_count": 38,
   "id": "398bfcb6",
   "metadata": {},
   "outputs": [
    {
     "name": "stdout",
     "output_type": "stream",
     "text": [
      "Series([], dtype: int64)\n"
     ]
    },
    {
     "ename": "TypeError",
     "evalue": "reg_mean_plot() missing 1 required positional argument: 'adata'",
     "output_type": "error",
     "traceback": [
      "\u001b[0;31m---------------------------------------------------------------------------\u001b[0m",
      "\u001b[0;31mTypeError\u001b[0m                                 Traceback (most recent call last)",
      "\u001b[0;32m/var/tmp/ipykernel_16234/830500626.py\u001b[0m in \u001b[0;36m<module>\u001b[0;34m\u001b[0m\n\u001b[1;32m      1\u001b[0m \u001b[0mconditions\u001b[0m \u001b[0;34m=\u001b[0m \u001b[0;34m{\u001b[0m\u001b[0;34m\"real_stim\"\u001b[0m\u001b[0;34m:\u001b[0m \u001b[0;34m\"CD4T_real_stim\"\u001b[0m\u001b[0;34m,\u001b[0m \u001b[0;34m\"pred_stim\"\u001b[0m\u001b[0;34m:\u001b[0m \u001b[0;34m\"CD4T_pred_stim\"\u001b[0m\u001b[0;34m}\u001b[0m\u001b[0;34m\u001b[0m\u001b[0;34m\u001b[0m\u001b[0m\n\u001b[0;32m----> 2\u001b[0;31m \u001b[0mmake_plots\u001b[0m\u001b[0;34m(\u001b[0m\u001b[0mscgen_recon\u001b[0m\u001b[0;34m,\u001b[0m \u001b[0mconditions\u001b[0m\u001b[0;34m,\u001b[0m \u001b[0;34m\"scGen\"\u001b[0m\u001b[0;34m,\u001b[0m \u001b[0;34m\"a\"\u001b[0m\u001b[0;34m,\u001b[0m \u001b[0;36m0.45\u001b[0m\u001b[0;34m,\u001b[0m \u001b[0;36m0.8\u001b[0m\u001b[0;34m)\u001b[0m\u001b[0;34m\u001b[0m\u001b[0;34m\u001b[0m\u001b[0m\n\u001b[0m",
      "\u001b[0;32m/var/tmp/ipykernel_16234/1232822416.py\u001b[0m in \u001b[0;36mmake_plots\u001b[0;34m(adata, conditions, model_name, figure, x_coeff, y_coeff)\u001b[0m\n\u001b[1;32m     20\u001b[0m                                  \u001b[0my_coeff\u001b[0m\u001b[0;34m=\u001b[0m\u001b[0my_coeff\u001b[0m\u001b[0;34m,\u001b[0m\u001b[0;34m\u001b[0m\u001b[0;34m\u001b[0m\u001b[0m\n\u001b[1;32m     21\u001b[0m                                  \u001b[0mshow\u001b[0m\u001b[0;34m=\u001b[0m\u001b[0;32mTrue\u001b[0m\u001b[0;34m,\u001b[0m\u001b[0;34m\u001b[0m\u001b[0;34m\u001b[0m\u001b[0m\n\u001b[0;32m---> 22\u001b[0;31m                                  range=[0, 5, 1])\n\u001b[0m\u001b[1;32m     23\u001b[0m \u001b[0;34m\u001b[0m\u001b[0m\n\u001b[1;32m     24\u001b[0m     SCGEN.reg_var_plot(adata, \n",
      "\u001b[0;31mTypeError\u001b[0m: reg_mean_plot() missing 1 required positional argument: 'adata'"
     ]
    }
   ],
   "source": [
    "conditions = {\"real_stim\": \"CD4T_real_stim\", \"pred_stim\": \"CD4T_pred_stim\"}\n",
    "make_plots(scgen_recon, conditions, \"scGen\", \"a\", 0.45, 0.8)"
   ]
  },
  {
   "cell_type": "code",
   "execution_count": null,
   "id": "58494bcb",
   "metadata": {},
   "outputs": [],
   "source": []
  }
 ],
 "metadata": {
  "kernelspec": {
   "display_name": "Python 3",
   "language": "python",
   "name": "python3"
  },
  "language_info": {
   "codemirror_mode": {
    "name": "ipython",
    "version": 3
   },
   "file_extension": ".py",
   "mimetype": "text/x-python",
   "name": "python",
   "nbconvert_exporter": "python",
   "pygments_lexer": "ipython3",
   "version": "3.7.12"
  }
 },
 "nbformat": 4,
 "nbformat_minor": 5
}
